{
 "cells": [
  {
   "cell_type": "markdown",
   "id": "bbcb96f9",
   "metadata": {},
   "source": [
    "### NOMS:\n",
    "### PROMOTION:\n",
    "## ANALYSE EXPLORATOIRE AVEC PYTHON"
   ]
  },
  {
   "cell_type": "code",
   "execution_count": 1,
   "id": "341f2923",
   "metadata": {},
   "outputs": [],
   "source": [
    "#Importation des libraries\n",
    "import pandas as pd\n",
    "import numpy as np\n",
    "import seaborn as sb\n",
    "import matplotlib.pyplot as plt\n",
    "\n",
    "%matplotlib inline"
   ]
  },
  {
   "cell_type": "code",
   "execution_count": 2,
   "id": "4e8ca53f",
   "metadata": {},
   "outputs": [
    {
     "data": {
      "text/html": [
       "<div>\n",
       "<style scoped>\n",
       "    .dataframe tbody tr th:only-of-type {\n",
       "        vertical-align: middle;\n",
       "    }\n",
       "\n",
       "    .dataframe tbody tr th {\n",
       "        vertical-align: top;\n",
       "    }\n",
       "\n",
       "    .dataframe thead th {\n",
       "        text-align: right;\n",
       "    }\n",
       "</style>\n",
       "<table border=\"1\" class=\"dataframe\">\n",
       "  <thead>\n",
       "    <tr style=\"text-align: right;\">\n",
       "      <th></th>\n",
       "      <th>haircolor;\"hairpattern\";\"sex\";\"weight\";\"age\";\"foodtype\"</th>\n",
       "    </tr>\n",
       "  </thead>\n",
       "  <tbody>\n",
       "    <tr>\n",
       "      <th>0</th>\n",
       "      <td>red;\"tortoise\";\"female\";3.7;7;\"dry\"</td>\n",
       "    </tr>\n",
       "    <tr>\n",
       "      <th>1</th>\n",
       "      <td>black;\"tipped\";\"male\";6;4;\"wet\"</td>\n",
       "    </tr>\n",
       "    <tr>\n",
       "      <th>2</th>\n",
       "      <td>black;\"tabby\";\"male\";5.4;4;\"dry\"</td>\n",
       "    </tr>\n",
       "    <tr>\n",
       "      <th>3</th>\n",
       "      <td>white;\"solid\";\"male\";5;4;\"dry\"</td>\n",
       "    </tr>\n",
       "    <tr>\n",
       "      <th>4</th>\n",
       "      <td>brown;\"tipped\";\"female\";3.3;6;\"dry\"</td>\n",
       "    </tr>\n",
       "    <tr>\n",
       "      <th>5</th>\n",
       "      <td>white;\"colorpoint\";\"male\";5.1;4;\"dry\"</td>\n",
       "    </tr>\n",
       "    <tr>\n",
       "      <th>6</th>\n",
       "      <td>black;\"tortoise\";\"male\";5.9;8;\"wet\"</td>\n",
       "    </tr>\n",
       "    <tr>\n",
       "      <th>7</th>\n",
       "      <td>red;\"tortoise\";\"female\";4.7;3;\"dry\"</td>\n",
       "    </tr>\n",
       "  </tbody>\n",
       "</table>\n",
       "</div>"
      ],
      "text/plain": [
       "  haircolor;\"hairpattern\";\"sex\";\"weight\";\"age\";\"foodtype\"\n",
       "0                red;\"tortoise\";\"female\";3.7;7;\"dry\"     \n",
       "1                    black;\"tipped\";\"male\";6;4;\"wet\"     \n",
       "2                   black;\"tabby\";\"male\";5.4;4;\"dry\"     \n",
       "3                     white;\"solid\";\"male\";5;4;\"dry\"     \n",
       "4                brown;\"tipped\";\"female\";3.3;6;\"dry\"     \n",
       "5              white;\"colorpoint\";\"male\";5.1;4;\"dry\"     \n",
       "6                black;\"tortoise\";\"male\";5.9;8;\"wet\"     \n",
       "7                red;\"tortoise\";\"female\";4.7;3;\"dry\"     "
      ]
     },
     "execution_count": 2,
     "metadata": {},
     "output_type": "execute_result"
    }
   ],
   "source": [
    "#Chargement des données\n",
    "catdata=pd.read_csv('catdata.csv')\n",
    "#on affiche les premieres lignes\n",
    "catdata.head(8)"
   ]
  },
  {
   "cell_type": "code",
   "execution_count": 3,
   "id": "3e91c29e",
   "metadata": {},
   "outputs": [
    {
     "data": {
      "text/html": [
       "<div>\n",
       "<style scoped>\n",
       "    .dataframe tbody tr th:only-of-type {\n",
       "        vertical-align: middle;\n",
       "    }\n",
       "\n",
       "    .dataframe tbody tr th {\n",
       "        vertical-align: top;\n",
       "    }\n",
       "\n",
       "    .dataframe thead th {\n",
       "        text-align: right;\n",
       "    }\n",
       "</style>\n",
       "<table border=\"1\" class=\"dataframe\">\n",
       "  <thead>\n",
       "    <tr style=\"text-align: right;\">\n",
       "      <th></th>\n",
       "      <th>haircolor</th>\n",
       "      <th>hairpattern</th>\n",
       "      <th>sex</th>\n",
       "      <th>weight</th>\n",
       "      <th>age</th>\n",
       "      <th>foodtype</th>\n",
       "    </tr>\n",
       "  </thead>\n",
       "  <tbody>\n",
       "    <tr>\n",
       "      <th>0</th>\n",
       "      <td>red</td>\n",
       "      <td>tortoise</td>\n",
       "      <td>female</td>\n",
       "      <td>3.7</td>\n",
       "      <td>7</td>\n",
       "      <td>dry</td>\n",
       "    </tr>\n",
       "    <tr>\n",
       "      <th>1</th>\n",
       "      <td>black</td>\n",
       "      <td>tipped</td>\n",
       "      <td>male</td>\n",
       "      <td>6.0</td>\n",
       "      <td>4</td>\n",
       "      <td>wet</td>\n",
       "    </tr>\n",
       "    <tr>\n",
       "      <th>2</th>\n",
       "      <td>black</td>\n",
       "      <td>tabby</td>\n",
       "      <td>male</td>\n",
       "      <td>5.4</td>\n",
       "      <td>4</td>\n",
       "      <td>dry</td>\n",
       "    </tr>\n",
       "    <tr>\n",
       "      <th>3</th>\n",
       "      <td>white</td>\n",
       "      <td>solid</td>\n",
       "      <td>male</td>\n",
       "      <td>5.0</td>\n",
       "      <td>4</td>\n",
       "      <td>dry</td>\n",
       "    </tr>\n",
       "    <tr>\n",
       "      <th>4</th>\n",
       "      <td>brown</td>\n",
       "      <td>tipped</td>\n",
       "      <td>female</td>\n",
       "      <td>3.3</td>\n",
       "      <td>6</td>\n",
       "      <td>dry</td>\n",
       "    </tr>\n",
       "  </tbody>\n",
       "</table>\n",
       "</div>"
      ],
      "text/plain": [
       "  haircolor hairpattern     sex  weight  age foodtype\n",
       "0       red    tortoise  female     3.7    7      dry\n",
       "1     black      tipped    male     6.0    4      wet\n",
       "2     black       tabby    male     5.4    4      dry\n",
       "3     white       solid    male     5.0    4      dry\n",
       "4     brown      tipped  female     3.3    6      dry"
      ]
     },
     "execution_count": 3,
     "metadata": {},
     "output_type": "execute_result"
    }
   ],
   "source": [
    "#Chargement des données en precisant le separateur\n",
    "catdata=pd.read_csv('catdata.csv',sep=';')\n",
    "#on affiche les premieres lignes\n",
    "catdata.head()"
   ]
  },
  {
   "cell_type": "code",
   "execution_count": 4,
   "id": "828abe03",
   "metadata": {},
   "outputs": [
    {
     "data": {
      "text/html": [
       "<div>\n",
       "<style scoped>\n",
       "    .dataframe tbody tr th:only-of-type {\n",
       "        vertical-align: middle;\n",
       "    }\n",
       "\n",
       "    .dataframe tbody tr th {\n",
       "        vertical-align: top;\n",
       "    }\n",
       "\n",
       "    .dataframe thead th {\n",
       "        text-align: right;\n",
       "    }\n",
       "</style>\n",
       "<table border=\"1\" class=\"dataframe\">\n",
       "  <thead>\n",
       "    <tr style=\"text-align: right;\">\n",
       "      <th></th>\n",
       "      <th>haircolor</th>\n",
       "      <th>hairpattern</th>\n",
       "      <th>sex</th>\n",
       "      <th>weight</th>\n",
       "      <th>age</th>\n",
       "      <th>foodtype</th>\n",
       "    </tr>\n",
       "  </thead>\n",
       "  <tbody>\n",
       "    <tr>\n",
       "      <th>148</th>\n",
       "      <td>red</td>\n",
       "      <td>tortoise</td>\n",
       "      <td>male</td>\n",
       "      <td>3.7</td>\n",
       "      <td>10</td>\n",
       "      <td>dry</td>\n",
       "    </tr>\n",
       "    <tr>\n",
       "      <th>149</th>\n",
       "      <td>white</td>\n",
       "      <td>solid</td>\n",
       "      <td>female</td>\n",
       "      <td>4.5</td>\n",
       "      <td>5</td>\n",
       "      <td>dry</td>\n",
       "    </tr>\n",
       "    <tr>\n",
       "      <th>150</th>\n",
       "      <td>black</td>\n",
       "      <td>tabby</td>\n",
       "      <td>female</td>\n",
       "      <td>6.0</td>\n",
       "      <td>4</td>\n",
       "      <td>wet</td>\n",
       "    </tr>\n",
       "    <tr>\n",
       "      <th>151</th>\n",
       "      <td>white</td>\n",
       "      <td>tabby</td>\n",
       "      <td>female</td>\n",
       "      <td>5.3</td>\n",
       "      <td>8</td>\n",
       "      <td>dry</td>\n",
       "    </tr>\n",
       "    <tr>\n",
       "      <th>152</th>\n",
       "      <td>black</td>\n",
       "      <td>tabby</td>\n",
       "      <td>female</td>\n",
       "      <td>5.8</td>\n",
       "      <td>10</td>\n",
       "      <td>dry</td>\n",
       "    </tr>\n",
       "  </tbody>\n",
       "</table>\n",
       "</div>"
      ],
      "text/plain": [
       "    haircolor hairpattern     sex  weight  age foodtype\n",
       "148       red    tortoise    male     3.7   10      dry\n",
       "149     white       solid  female     4.5    5      dry\n",
       "150     black       tabby  female     6.0    4      wet\n",
       "151     white       tabby  female     5.3    8      dry\n",
       "152     black       tabby  female     5.8   10      dry"
      ]
     },
     "execution_count": 4,
     "metadata": {},
     "output_type": "execute_result"
    }
   ],
   "source": [
    "#on affiche les 5 dernieres lignes\n",
    "catdata.tail()"
   ]
  },
  {
   "cell_type": "code",
   "execution_count": 5,
   "id": "8d9a5935",
   "metadata": {},
   "outputs": [
    {
     "name": "stdout",
     "output_type": "stream",
     "text": [
      "<class 'pandas.core.frame.DataFrame'>\n",
      "RangeIndex: 153 entries, 0 to 152\n",
      "Data columns (total 6 columns):\n",
      " #   Column       Non-Null Count  Dtype  \n",
      "---  ------       --------------  -----  \n",
      " 0   haircolor    153 non-null    object \n",
      " 1   hairpattern  153 non-null    object \n",
      " 2   sex          153 non-null    object \n",
      " 3   weight       153 non-null    float64\n",
      " 4   age          153 non-null    int64  \n",
      " 5   foodtype     153 non-null    object \n",
      "dtypes: float64(1), int64(1), object(4)\n",
      "memory usage: 7.3+ KB\n"
     ]
    }
   ],
   "source": [
    "#on affiche les informations sur le dataset\n",
    "catdata.info()"
   ]
  },
  {
   "cell_type": "code",
   "execution_count": 6,
   "id": "a32e78ac",
   "metadata": {},
   "outputs": [
    {
     "data": {
      "text/html": [
       "<div>\n",
       "<style scoped>\n",
       "    .dataframe tbody tr th:only-of-type {\n",
       "        vertical-align: middle;\n",
       "    }\n",
       "\n",
       "    .dataframe tbody tr th {\n",
       "        vertical-align: top;\n",
       "    }\n",
       "\n",
       "    .dataframe thead th {\n",
       "        text-align: right;\n",
       "    }\n",
       "</style>\n",
       "<table border=\"1\" class=\"dataframe\">\n",
       "  <thead>\n",
       "    <tr style=\"text-align: right;\">\n",
       "      <th></th>\n",
       "      <th>weight</th>\n",
       "      <th>age</th>\n",
       "    </tr>\n",
       "  </thead>\n",
       "  <tbody>\n",
       "    <tr>\n",
       "      <th>count</th>\n",
       "      <td>153.000000</td>\n",
       "      <td>153.000000</td>\n",
       "    </tr>\n",
       "    <tr>\n",
       "      <th>mean</th>\n",
       "      <td>4.805882</td>\n",
       "      <td>6.333333</td>\n",
       "    </tr>\n",
       "    <tr>\n",
       "      <th>std</th>\n",
       "      <td>0.960827</td>\n",
       "      <td>2.752989</td>\n",
       "    </tr>\n",
       "    <tr>\n",
       "      <th>min</th>\n",
       "      <td>2.700000</td>\n",
       "      <td>2.000000</td>\n",
       "    </tr>\n",
       "    <tr>\n",
       "      <th>25%</th>\n",
       "      <td>4.100000</td>\n",
       "      <td>4.000000</td>\n",
       "    </tr>\n",
       "    <tr>\n",
       "      <th>50%</th>\n",
       "      <td>4.900000</td>\n",
       "      <td>6.000000</td>\n",
       "    </tr>\n",
       "    <tr>\n",
       "      <th>75%</th>\n",
       "      <td>5.600000</td>\n",
       "      <td>8.000000</td>\n",
       "    </tr>\n",
       "    <tr>\n",
       "      <th>max</th>\n",
       "      <td>6.800000</td>\n",
       "      <td>14.000000</td>\n",
       "    </tr>\n",
       "  </tbody>\n",
       "</table>\n",
       "</div>"
      ],
      "text/plain": [
       "           weight         age\n",
       "count  153.000000  153.000000\n",
       "mean     4.805882    6.333333\n",
       "std      0.960827    2.752989\n",
       "min      2.700000    2.000000\n",
       "25%      4.100000    4.000000\n",
       "50%      4.900000    6.000000\n",
       "75%      5.600000    8.000000\n",
       "max      6.800000   14.000000"
      ]
     },
     "execution_count": 6,
     "metadata": {},
     "output_type": "execute_result"
    }
   ],
   "source": [
    "#on affiche une descriptive des variables numeriques\n",
    "catdata.describe()"
   ]
  },
  {
   "cell_type": "code",
   "execution_count": 7,
   "id": "a3b24bd9",
   "metadata": {},
   "outputs": [
    {
     "data": {
      "text/plain": [
       "0      female\n",
       "1        male\n",
       "2        male\n",
       "3        male\n",
       "4      female\n",
       "        ...  \n",
       "148      male\n",
       "149    female\n",
       "150    female\n",
       "151    female\n",
       "152    female\n",
       "Name: sex, Length: 153, dtype: object"
      ]
     },
     "execution_count": 7,
     "metadata": {},
     "output_type": "execute_result"
    }
   ],
   "source": [
    "#On veut afficher seulement la colonne sex\n",
    "catdata['sex'] #ou catdata.sex"
   ]
  },
  {
   "cell_type": "code",
   "execution_count": 8,
   "id": "e9c8a86e",
   "metadata": {},
   "outputs": [
    {
     "data": {
      "text/html": [
       "<div>\n",
       "<style scoped>\n",
       "    .dataframe tbody tr th:only-of-type {\n",
       "        vertical-align: middle;\n",
       "    }\n",
       "\n",
       "    .dataframe tbody tr th {\n",
       "        vertical-align: top;\n",
       "    }\n",
       "\n",
       "    .dataframe thead th {\n",
       "        text-align: right;\n",
       "    }\n",
       "</style>\n",
       "<table border=\"1\" class=\"dataframe\">\n",
       "  <thead>\n",
       "    <tr style=\"text-align: right;\">\n",
       "      <th></th>\n",
       "      <th>sex</th>\n",
       "      <th>age</th>\n",
       "    </tr>\n",
       "  </thead>\n",
       "  <tbody>\n",
       "    <tr>\n",
       "      <th>0</th>\n",
       "      <td>female</td>\n",
       "      <td>7</td>\n",
       "    </tr>\n",
       "    <tr>\n",
       "      <th>1</th>\n",
       "      <td>male</td>\n",
       "      <td>4</td>\n",
       "    </tr>\n",
       "    <tr>\n",
       "      <th>2</th>\n",
       "      <td>male</td>\n",
       "      <td>4</td>\n",
       "    </tr>\n",
       "    <tr>\n",
       "      <th>3</th>\n",
       "      <td>male</td>\n",
       "      <td>4</td>\n",
       "    </tr>\n",
       "    <tr>\n",
       "      <th>4</th>\n",
       "      <td>female</td>\n",
       "      <td>6</td>\n",
       "    </tr>\n",
       "    <tr>\n",
       "      <th>...</th>\n",
       "      <td>...</td>\n",
       "      <td>...</td>\n",
       "    </tr>\n",
       "    <tr>\n",
       "      <th>148</th>\n",
       "      <td>male</td>\n",
       "      <td>10</td>\n",
       "    </tr>\n",
       "    <tr>\n",
       "      <th>149</th>\n",
       "      <td>female</td>\n",
       "      <td>5</td>\n",
       "    </tr>\n",
       "    <tr>\n",
       "      <th>150</th>\n",
       "      <td>female</td>\n",
       "      <td>4</td>\n",
       "    </tr>\n",
       "    <tr>\n",
       "      <th>151</th>\n",
       "      <td>female</td>\n",
       "      <td>8</td>\n",
       "    </tr>\n",
       "    <tr>\n",
       "      <th>152</th>\n",
       "      <td>female</td>\n",
       "      <td>10</td>\n",
       "    </tr>\n",
       "  </tbody>\n",
       "</table>\n",
       "<p>153 rows × 2 columns</p>\n",
       "</div>"
      ],
      "text/plain": [
       "        sex  age\n",
       "0    female    7\n",
       "1      male    4\n",
       "2      male    4\n",
       "3      male    4\n",
       "4    female    6\n",
       "..      ...  ...\n",
       "148    male   10\n",
       "149  female    5\n",
       "150  female    4\n",
       "151  female    8\n",
       "152  female   10\n",
       "\n",
       "[153 rows x 2 columns]"
      ]
     },
     "execution_count": 8,
     "metadata": {},
     "output_type": "execute_result"
    }
   ],
   "source": [
    "#Pour deux colonnes\n",
    "column=['sex','age']\n",
    "catdata[column]"
   ]
  },
  {
   "cell_type": "code",
   "execution_count": 9,
   "id": "284a0b36",
   "metadata": {},
   "outputs": [
    {
     "data": {
      "text/plain": [
       "male      85\n",
       "female    68\n",
       "Name: sex, dtype: int64"
      ]
     },
     "execution_count": 9,
     "metadata": {},
     "output_type": "execute_result"
    }
   ],
   "source": [
    "#Repartition par sex\n",
    "catdata['sex'].value_counts()"
   ]
  },
  {
   "cell_type": "code",
   "execution_count": 10,
   "id": "e3820f3f",
   "metadata": {},
   "outputs": [
    {
     "data": {
      "image/png": "[encoded data removed]",
      "text/plain": [
       "<Figure size 432x288 with 1 Axes>"
      ]
     },
     "metadata": {
      "needs_background": "light"
     },
     "output_type": "display_data"
    }
   ],
   "source": [
    "#Repartition sur un graphique\n",
    "sb.countplot(y=catdata['sex']);"
   ]
  },
  {
   "cell_type": "code",
   "execution_count": 11,
   "id": "0354b71e",
   "metadata": {},
   "outputs": [
    {
     "data": {
      "text/plain": [
       "black    68\n",
       "red      35\n",
       "white    33\n",
       "brown    17\n",
       "Name: haircolor, dtype: int64"
      ]
     },
     "execution_count": 11,
     "metadata": {},
     "output_type": "execute_result"
    }
   ],
   "source": [
    "#repartition pour haircolor\n",
    "catdata.haircolor.value_counts()"
   ]
  },
  {
   "cell_type": "code",
   "execution_count": 12,
   "id": "aa2a39ef",
   "metadata": {},
   "outputs": [
    {
     "data": {
      "image/png": "[encoded data removed]",
      "text/plain": [
       "<Figure size 432x288 with 1 Axes>"
      ]
     },
     "metadata": {
      "needs_background": "light"
     },
     "output_type": "display_data"
    }
   ],
   "source": [
    "#Repartition sur un graphique\n",
    "sb.countplot(x=catdata.haircolor);"
   ]
  },
  {
   "cell_type": "markdown",
   "id": "b03b3fb1",
   "metadata": {},
   "source": [
    "### QUELQUES REQUETES"
   ]
  },
  {
   "cell_type": "code",
   "execution_count": 18,
   "id": "5e8d3d72",
   "metadata": {},
   "outputs": [
    {
     "data": {
      "text/html": [
       "<div>\n",
       "<style scoped>\n",
       "    .dataframe tbody tr th:only-of-type {\n",
       "        vertical-align: middle;\n",
       "    }\n",
       "\n",
       "    .dataframe tbody tr th {\n",
       "        vertical-align: top;\n",
       "    }\n",
       "\n",
       "    .dataframe thead th {\n",
       "        text-align: right;\n",
       "    }\n",
       "</style>\n",
       "<table border=\"1\" class=\"dataframe\">\n",
       "  <thead>\n",
       "    <tr style=\"text-align: right;\">\n",
       "      <th>haircolor</th>\n",
       "      <th>black</th>\n",
       "      <th>brown</th>\n",
       "      <th>red</th>\n",
       "      <th>white</th>\n",
       "      <th>All</th>\n",
       "    </tr>\n",
       "    <tr>\n",
       "      <th>sex</th>\n",
       "      <th></th>\n",
       "      <th></th>\n",
       "      <th></th>\n",
       "      <th></th>\n",
       "      <th></th>\n",
       "    </tr>\n",
       "  </thead>\n",
       "  <tbody>\n",
       "    <tr>\n",
       "      <th>female</th>\n",
       "      <td>29</td>\n",
       "      <td>7</td>\n",
       "      <td>15</td>\n",
       "      <td>17</td>\n",
       "      <td>68</td>\n",
       "    </tr>\n",
       "    <tr>\n",
       "      <th>male</th>\n",
       "      <td>39</td>\n",
       "      <td>10</td>\n",
       "      <td>20</td>\n",
       "      <td>16</td>\n",
       "      <td>85</td>\n",
       "    </tr>\n",
       "    <tr>\n",
       "      <th>All</th>\n",
       "      <td>68</td>\n",
       "      <td>17</td>\n",
       "      <td>35</td>\n",
       "      <td>33</td>\n",
       "      <td>153</td>\n",
       "    </tr>\n",
       "  </tbody>\n",
       "</table>\n",
       "</div>"
      ],
      "text/plain": [
       "haircolor  black  brown  red  white  All\n",
       "sex                                     \n",
       "female        29      7   15     17   68\n",
       "male          39     10   20     16   85\n",
       "All           68     17   35     33  153"
      ]
     },
     "execution_count": 18,
     "metadata": {},
     "output_type": "execute_result"
    }
   ],
   "source": [
    "#Croisement haircolor avec sex\n",
    "pd.crosstab(catdata.sex,catdata.haircolor,margins=True)"
   ]
  },
  {
   "cell_type": "code",
   "execution_count": 20,
   "id": "a18ab03d",
   "metadata": {},
   "outputs": [
    {
     "data": {
      "text/html": [
       "<div>\n",
       "<style scoped>\n",
       "    .dataframe tbody tr th:only-of-type {\n",
       "        vertical-align: middle;\n",
       "    }\n",
       "\n",
       "    .dataframe tbody tr th {\n",
       "        vertical-align: top;\n",
       "    }\n",
       "\n",
       "    .dataframe thead th {\n",
       "        text-align: right;\n",
       "    }\n",
       "</style>\n",
       "<table border=\"1\" class=\"dataframe\">\n",
       "  <thead>\n",
       "    <tr style=\"text-align: right;\">\n",
       "      <th>haircolor</th>\n",
       "      <th>black</th>\n",
       "      <th>brown</th>\n",
       "      <th>red</th>\n",
       "      <th>white</th>\n",
       "      <th>All</th>\n",
       "    </tr>\n",
       "    <tr>\n",
       "      <th>sex</th>\n",
       "      <th></th>\n",
       "      <th></th>\n",
       "      <th></th>\n",
       "      <th></th>\n",
       "      <th></th>\n",
       "    </tr>\n",
       "  </thead>\n",
       "  <tbody>\n",
       "    <tr>\n",
       "      <th>female</th>\n",
       "      <td>18.954248</td>\n",
       "      <td>4.575163</td>\n",
       "      <td>9.803922</td>\n",
       "      <td>11.111111</td>\n",
       "      <td>44.444444</td>\n",
       "    </tr>\n",
       "    <tr>\n",
       "      <th>male</th>\n",
       "      <td>25.490196</td>\n",
       "      <td>6.535948</td>\n",
       "      <td>13.071895</td>\n",
       "      <td>10.457516</td>\n",
       "      <td>55.555556</td>\n",
       "    </tr>\n",
       "    <tr>\n",
       "      <th>All</th>\n",
       "      <td>44.444444</td>\n",
       "      <td>11.111111</td>\n",
       "      <td>22.875817</td>\n",
       "      <td>21.568627</td>\n",
       "      <td>100.000000</td>\n",
       "    </tr>\n",
       "  </tbody>\n",
       "</table>\n",
       "</div>"
      ],
      "text/plain": [
       "haircolor      black      brown        red      white         All\n",
       "sex                                                              \n",
       "female     18.954248   4.575163   9.803922  11.111111   44.444444\n",
       "male       25.490196   6.535948  13.071895  10.457516   55.555556\n",
       "All        44.444444  11.111111  22.875817  21.568627  100.000000"
      ]
     },
     "execution_count": 20,
     "metadata": {},
     "output_type": "execute_result"
    }
   ],
   "source": [
    "#Croisement haircolor avec sex AVEC POURCENTAGE\n",
    "pd.crosstab(catdata.sex,catdata.haircolor,margins=True,normalize=True)*100"
   ]
  },
  {
   "cell_type": "markdown",
   "id": "e50b77dc",
   "metadata": {},
   "source": [
    "## Commentaire:\n",
    "En observant ce tableau, on constate que les chats de sex feminin sont moins\n",
    "représentés avec une proportion de 44,44%. Ceux de sex masculin sont majoritaires\n",
    "et représentent 55,56% du total.\n",
    "Details:........"
   ]
  },
  {
   "cell_type": "code",
   "execution_count": 22,
   "id": "e945799a",
   "metadata": {},
   "outputs": [
    {
     "data": {
      "text/html": [
       "<div>\n",
       "<style scoped>\n",
       "    .dataframe tbody tr th:only-of-type {\n",
       "        vertical-align: middle;\n",
       "    }\n",
       "\n",
       "    .dataframe tbody tr th {\n",
       "        vertical-align: top;\n",
       "    }\n",
       "\n",
       "    .dataframe thead th {\n",
       "        text-align: right;\n",
       "    }\n",
       "</style>\n",
       "<table border=\"1\" class=\"dataframe\">\n",
       "  <thead>\n",
       "    <tr style=\"text-align: right;\">\n",
       "      <th>haircolor</th>\n",
       "      <th>black</th>\n",
       "      <th>brown</th>\n",
       "      <th>red</th>\n",
       "      <th>white</th>\n",
       "      <th>All</th>\n",
       "    </tr>\n",
       "    <tr>\n",
       "      <th>sex</th>\n",
       "      <th></th>\n",
       "      <th></th>\n",
       "      <th></th>\n",
       "      <th></th>\n",
       "      <th></th>\n",
       "    </tr>\n",
       "  </thead>\n",
       "  <tbody>\n",
       "    <tr>\n",
       "      <th>female</th>\n",
       "      <td>42.647059</td>\n",
       "      <td>41.176471</td>\n",
       "      <td>42.857143</td>\n",
       "      <td>51.515152</td>\n",
       "      <td>44.444444</td>\n",
       "    </tr>\n",
       "    <tr>\n",
       "      <th>male</th>\n",
       "      <td>57.352941</td>\n",
       "      <td>58.823529</td>\n",
       "      <td>57.142857</td>\n",
       "      <td>48.484848</td>\n",
       "      <td>55.555556</td>\n",
       "    </tr>\n",
       "  </tbody>\n",
       "</table>\n",
       "</div>"
      ],
      "text/plain": [
       "haircolor      black      brown        red      white        All\n",
       "sex                                                             \n",
       "female     42.647059  41.176471  42.857143  51.515152  44.444444\n",
       "male       57.352941  58.823529  57.142857  48.484848  55.555556"
      ]
     },
     "execution_count": 22,
     "metadata": {},
     "output_type": "execute_result"
    }
   ],
   "source": [
    "#Croisement haircolor avec sex AVEC POURCENTAGE(lecture en colonne)\n",
    "pd.crosstab(catdata.sex,catdata.haircolor,margins=True,normalize='columns')*100"
   ]
  },
  {
   "cell_type": "markdown",
   "id": "a8b2a44c",
   "metadata": {},
   "source": [
    "## Commentaire(lecture en colonne):......."
   ]
  },
  {
   "cell_type": "code",
   "execution_count": 23,
   "id": "a309f1ca",
   "metadata": {},
   "outputs": [
    {
     "data": {
      "text/html": [
       "<div>\n",
       "<style scoped>\n",
       "    .dataframe tbody tr th:only-of-type {\n",
       "        vertical-align: middle;\n",
       "    }\n",
       "\n",
       "    .dataframe tbody tr th {\n",
       "        vertical-align: top;\n",
       "    }\n",
       "\n",
       "    .dataframe thead th {\n",
       "        text-align: right;\n",
       "    }\n",
       "</style>\n",
       "<table border=\"1\" class=\"dataframe\">\n",
       "  <thead>\n",
       "    <tr style=\"text-align: right;\">\n",
       "      <th>haircolor</th>\n",
       "      <th>black</th>\n",
       "      <th>brown</th>\n",
       "      <th>red</th>\n",
       "      <th>white</th>\n",
       "    </tr>\n",
       "    <tr>\n",
       "      <th>sex</th>\n",
       "      <th></th>\n",
       "      <th></th>\n",
       "      <th></th>\n",
       "      <th></th>\n",
       "    </tr>\n",
       "  </thead>\n",
       "  <tbody>\n",
       "    <tr>\n",
       "      <th>female</th>\n",
       "      <td>42.647059</td>\n",
       "      <td>10.294118</td>\n",
       "      <td>22.058824</td>\n",
       "      <td>25.000000</td>\n",
       "    </tr>\n",
       "    <tr>\n",
       "      <th>male</th>\n",
       "      <td>45.882353</td>\n",
       "      <td>11.764706</td>\n",
       "      <td>23.529412</td>\n",
       "      <td>18.823529</td>\n",
       "    </tr>\n",
       "    <tr>\n",
       "      <th>All</th>\n",
       "      <td>44.444444</td>\n",
       "      <td>11.111111</td>\n",
       "      <td>22.875817</td>\n",
       "      <td>21.568627</td>\n",
       "    </tr>\n",
       "  </tbody>\n",
       "</table>\n",
       "</div>"
      ],
      "text/plain": [
       "haircolor      black      brown        red      white\n",
       "sex                                                  \n",
       "female     42.647059  10.294118  22.058824  25.000000\n",
       "male       45.882353  11.764706  23.529412  18.823529\n",
       "All        44.444444  11.111111  22.875817  21.568627"
      ]
     },
     "execution_count": 23,
     "metadata": {},
     "output_type": "execute_result"
    }
   ],
   "source": [
    "#Croisement haircolor avec sex AVEC POURCENTAGE(lecture en ligne)\n",
    "pd.crosstab(catdata.sex,catdata.haircolor,margins=True,normalize='index')*100"
   ]
  },
  {
   "cell_type": "markdown",
   "id": "63caf860",
   "metadata": {},
   "source": [
    "## Commentaire(lecture en ligne):\n",
    "..............."
   ]
  },
  {
   "cell_type": "code",
   "execution_count": 25,
   "id": "ed60e0a7",
   "metadata": {},
   "outputs": [
    {
     "data": {
      "image/png": "[encoded data removed]",
      "text/plain": [
       "<Figure size 432x288 with 1 Axes>"
      ]
     },
     "metadata": {
      "needs_background": "light"
     },
     "output_type": "display_data"
    }
   ],
   "source": [
    "#Représentation de deux variables sur un seul graphique\n",
    "sb.countplot(data=catdata,y='haircolor',hue='sex');"
   ]
  },
  {
   "cell_type": "code",
   "execution_count": 26,
   "id": "78fdde7f",
   "metadata": {},
   "outputs": [
    {
     "data": {
      "text/html": [
       "<div>\n",
       "<style scoped>\n",
       "    .dataframe tbody tr th:only-of-type {\n",
       "        vertical-align: middle;\n",
       "    }\n",
       "\n",
       "    .dataframe tbody tr th {\n",
       "        vertical-align: top;\n",
       "    }\n",
       "\n",
       "    .dataframe thead th {\n",
       "        text-align: right;\n",
       "    }\n",
       "</style>\n",
       "<table border=\"1\" class=\"dataframe\">\n",
       "  <thead>\n",
       "    <tr style=\"text-align: right;\">\n",
       "      <th></th>\n",
       "      <th>age</th>\n",
       "      <th>weight</th>\n",
       "    </tr>\n",
       "  </thead>\n",
       "  <tbody>\n",
       "    <tr>\n",
       "      <th>age</th>\n",
       "      <td>1.000000</td>\n",
       "      <td>-0.201213</td>\n",
       "    </tr>\n",
       "    <tr>\n",
       "      <th>weight</th>\n",
       "      <td>-0.201213</td>\n",
       "      <td>1.000000</td>\n",
       "    </tr>\n",
       "  </tbody>\n",
       "</table>\n",
       "</div>"
      ],
      "text/plain": [
       "             age    weight\n",
       "age     1.000000 -0.201213\n",
       "weight -0.201213  1.000000"
      ]
     },
     "execution_count": 26,
     "metadata": {},
     "output_type": "execute_result"
    }
   ],
   "source": [
    "#correlation entre les donnees numeriques\n",
    "var_num=['age','weight']\n",
    "catdata[var_num].corr()"
   ]
  },
  {
   "cell_type": "markdown",
   "id": "ee5beae9",
   "metadata": {},
   "source": [
    "## Commentaire:\n",
    "En observant ce tableau, on remarque que le poid ne depend pas de l'age. il n'existe pas de correlation entre le poid et l'age."
   ]
  },
  {
   "cell_type": "code",
   "execution_count": 28,
   "id": "d7cc4a7a",
   "metadata": {},
   "outputs": [
    {
     "data": {
      "image/png": "[encoded data removed]",
      "text/plain": [
       "<Figure size 432x288 with 2 Axes>"
      ]
     },
     "metadata": {
      "needs_background": "light"
     },
     "output_type": "display_data"
    }
   ],
   "source": [
    "#Visualisation sur un graphique\n",
    "sb.heatmap(catdata[var_num].corr(),annot=True);"
   ]
  },
  {
   "cell_type": "code",
   "execution_count": 29,
   "id": "bb95be38",
   "metadata": {},
   "outputs": [
    {
     "data": {
      "text/html": [
       "<div>\n",
       "<style scoped>\n",
       "    .dataframe tbody tr th:only-of-type {\n",
       "        vertical-align: middle;\n",
       "    }\n",
       "\n",
       "    .dataframe tbody tr th {\n",
       "        vertical-align: top;\n",
       "    }\n",
       "\n",
       "    .dataframe thead th {\n",
       "        text-align: right;\n",
       "    }\n",
       "</style>\n",
       "<table border=\"1\" class=\"dataframe\">\n",
       "  <thead>\n",
       "    <tr style=\"text-align: right;\">\n",
       "      <th></th>\n",
       "      <th>haircolor</th>\n",
       "      <th>hairpattern</th>\n",
       "      <th>sex</th>\n",
       "      <th>weight</th>\n",
       "      <th>age</th>\n",
       "      <th>foodtype</th>\n",
       "    </tr>\n",
       "  </thead>\n",
       "  <tbody>\n",
       "    <tr>\n",
       "      <th>0</th>\n",
       "      <td>red</td>\n",
       "      <td>tortoise</td>\n",
       "      <td>female</td>\n",
       "      <td>3.7</td>\n",
       "      <td>7</td>\n",
       "      <td>dry</td>\n",
       "    </tr>\n",
       "    <tr>\n",
       "      <th>1</th>\n",
       "      <td>black</td>\n",
       "      <td>tipped</td>\n",
       "      <td>male</td>\n",
       "      <td>6.0</td>\n",
       "      <td>4</td>\n",
       "      <td>wet</td>\n",
       "    </tr>\n",
       "    <tr>\n",
       "      <th>2</th>\n",
       "      <td>black</td>\n",
       "      <td>tabby</td>\n",
       "      <td>male</td>\n",
       "      <td>5.4</td>\n",
       "      <td>4</td>\n",
       "      <td>dry</td>\n",
       "    </tr>\n",
       "    <tr>\n",
       "      <th>3</th>\n",
       "      <td>white</td>\n",
       "      <td>solid</td>\n",
       "      <td>male</td>\n",
       "      <td>5.0</td>\n",
       "      <td>4</td>\n",
       "      <td>dry</td>\n",
       "    </tr>\n",
       "    <tr>\n",
       "      <th>4</th>\n",
       "      <td>brown</td>\n",
       "      <td>tipped</td>\n",
       "      <td>female</td>\n",
       "      <td>3.3</td>\n",
       "      <td>6</td>\n",
       "      <td>dry</td>\n",
       "    </tr>\n",
       "    <tr>\n",
       "      <th>5</th>\n",
       "      <td>white</td>\n",
       "      <td>colorpoint</td>\n",
       "      <td>male</td>\n",
       "      <td>5.1</td>\n",
       "      <td>4</td>\n",
       "      <td>dry</td>\n",
       "    </tr>\n",
       "    <tr>\n",
       "      <th>6</th>\n",
       "      <td>black</td>\n",
       "      <td>tortoise</td>\n",
       "      <td>male</td>\n",
       "      <td>5.9</td>\n",
       "      <td>8</td>\n",
       "      <td>wet</td>\n",
       "    </tr>\n",
       "  </tbody>\n",
       "</table>\n",
       "</div>"
      ],
      "text/plain": [
       "  haircolor hairpattern     sex  weight  age foodtype\n",
       "0       red    tortoise  female     3.7    7      dry\n",
       "1     black      tipped    male     6.0    4      wet\n",
       "2     black       tabby    male     5.4    4      dry\n",
       "3     white       solid    male     5.0    4      dry\n",
       "4     brown      tipped  female     3.3    6      dry\n",
       "5     white  colorpoint    male     5.1    4      dry\n",
       "6     black    tortoise    male     5.9    8      wet"
      ]
     },
     "execution_count": 29,
     "metadata": {},
     "output_type": "execute_result"
    }
   ],
   "source": [
    "#On peut acceder aux 7 premieres lignes de toutes les colonnes\n",
    "catdata.iloc[0:7,:]"
   ]
  },
  {
   "cell_type": "code",
   "execution_count": null,
   "id": "dd21c957",
   "metadata": {},
   "outputs": [],
   "source": []
  }
 ],
 "metadata": {
  "kernelspec": {
   "display_name": "Python 3",
   "language": "python",
   "name": "python3"
  },
  "language_info": {
   "codemirror_mode": {
    "name": "ipython",
    "version": 3
   },
   "file_extension": ".py",
   "mimetype": "text/x-python",
   "name": "python",
   "nbconvert_exporter": "python",
   "pygments_lexer": "ipython3",
   "version": "3.8.8"
  }
 },
 "nbformat": 4,
 "nbformat_minor": 5
}
